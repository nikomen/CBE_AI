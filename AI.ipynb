{
  "nbformat": 4,
  "nbformat_minor": 0,
  "metadata": {
    "colab": {
      "provenance": [],
      "authorship_tag": "ABX9TyNX2o3y+luaBEN9TCmxCmrA",
      "include_colab_link": true
    },
    "kernelspec": {
      "name": "python3",
      "display_name": "Python 3"
    },
    "language_info": {
      "name": "python"
    }
  },
  "cells": [
    {
      "cell_type": "markdown",
      "metadata": {
        "id": "view-in-github",
        "colab_type": "text"
      },
      "source": [
        "<a href=\"https://colab.research.google.com/github/nikomen/CBE_AI/blob/main/AI.ipynb\" target=\"_parent\"><img src=\"https://colab.research.google.com/assets/colab-badge.svg\" alt=\"Open In Colab\"/></a>"
      ]
    },
    {
      "cell_type": "code",
      "execution_count": 1,
      "metadata": {
        "colab": {
          "base_uri": "https://localhost:8080/"
        },
        "id": "b11sMRFt6KVu",
        "outputId": "784371a8-d92a-423d-de7d-9c033f7a194b"
      },
      "outputs": [
        {
          "output_type": "stream",
          "name": "stdout",
          "text": [
            "Mounted at /content/drive\n"
          ]
        }
      ],
      "source": [
        "#Podłączenie google drive z Colabem\n",
        "from google.colab import drive\n",
        "drive.mount('/content/drive')"
      ]
    },
    {
      "cell_type": "code",
      "source": [
        "import pandas as pd\n",
        "import numpy as np\n",
        "\n",
        "#Wczytanie danych\n",
        "dataset = pd.read_csv('/content/drive/My Drive/Colab Notebooks/all.csv')"
      ],
      "metadata": {
        "id": "0tHTgZLd6PP3"
      },
      "execution_count": 84,
      "outputs": []
    },
    {
      "cell_type": "code",
      "source": [
        "# Miałem problem z IP oraz czasem jako danymi. Na razie je wywaliłem\n",
        "dataset = dataset.drop(['SourceIP','DestinationIP','PacketTimeMode','TimeStamp'],1)\n",
        "# Wywalam duplikaty i próbki które nie miały wszystch cech\n",
        "dataset = dataset.dropna()\n",
        "dataset = dataset.drop_duplicates()\n",
        "dataset"
      ],
      "metadata": {
        "id": "iBqZf8GN9Qpo"
      },
      "execution_count": null,
      "outputs": []
    },
    {
      "cell_type": "code",
      "source": [
        "# Sprawdzenie jak zbalansowane są dane\n",
        "dataset.groupby(dataset.DoH).size()"
      ],
      "metadata": {
        "colab": {
          "base_uri": "https://localhost:8080/"
        },
        "id": "ztlw416KD79G",
        "outputId": "32e8ebf6-3ec8-4390-8122-ebbd7494ecb5"
      },
      "execution_count": 86,
      "outputs": [
        {
          "output_type": "execute_result",
          "data": {
            "text/plain": [
              "DoH\n",
              "False    353122\n",
              "True      16039\n",
              "dtype: int64"
            ]
          },
          "metadata": {},
          "execution_count": 86
        }
      ]
    },
    {
      "cell_type": "code",
      "source": [
        "# Balansowanie danych\n",
        "from sklearn.utils import resample\n",
        "Klasa_mniejsza = dataset[dataset.DoH == True]\n",
        "Klasa_wieksza = dataset[dataset.DoH == False]\n",
        "Klasa_wieksza_zmniejszona = resample(Klasa_wieksza, replace=False, n_samples=16039, random_state=42)\n",
        "dataset = pd.concat([Klasa_wieksza_zmniejszona, Klasa_mniejsza])\n",
        "dataset.groupby(dataset.DoH).size()"
      ],
      "metadata": {
        "colab": {
          "base_uri": "https://localhost:8080/"
        },
        "id": "dCpZBQvMECHm",
        "outputId": "cab1fb9b-4645-4b61-ec5d-65af4179387a"
      },
      "execution_count": 87,
      "outputs": [
        {
          "output_type": "execute_result",
          "data": {
            "text/plain": [
              "DoH\n",
              "False    16039\n",
              "True     16039\n",
              "dtype: int64"
            ]
          },
          "metadata": {},
          "execution_count": 87
        }
      ]
    },
    {
      "cell_type": "code",
      "source": [
        "# Dzielę dane na cechy i etykiety\n",
        "X = dataset.iloc[:, :-1]\n",
        "# Zamiana wartości etykiet z True/False na 1/0.\n",
        "y = dataset.iloc[:, -1].astype(int)\n",
        "\n",
        "# Standaryzacja danych Standaryzacja polega na przekształceniu danych w taki sposób, że średnia wartość (średnia arytmetyczna) wszystkich danych wynosi 0, a odchylenie standardowe wynosi 1.\n",
        "from sklearn.preprocessing import StandardScaler\n",
        "X_scaled = StandardScaler()\n",
        "X = X_scaled.fit_transform(X)"
      ],
      "metadata": {
        "id": "2B53Oa1n9EU7"
      },
      "execution_count": 88,
      "outputs": []
    },
    {
      "cell_type": "code",
      "source": [
        "# Podział na dane treningowe i dane testowe\n",
        "from sklearn.model_selection import train_test_split\n",
        "X_train, X_test, y_train, y_test = train_test_split(X, y, test_size=.25, random_state=42)"
      ],
      "metadata": {
        "id": "wzRfzz_bDLo2"
      },
      "execution_count": 89,
      "outputs": []
    },
    {
      "cell_type": "code",
      "source": [
        "# Wybór X najlepszych cech\n",
        "from sklearn.feature_selection import SelectKBest, mutual_info_classif\n",
        "select_feature = SelectKBest(mutual_info_classif, k=17).fit(X_train,y_train)\n",
        "X_train = select_feature.transform(X_train)\n",
        "X_test = select_feature.transform(X_test)"
      ],
      "metadata": {
        "id": "SO5rAuqqX3bi"
      },
      "execution_count": 90,
      "outputs": []
    },
    {
      "cell_type": "code",
      "source": [
        "# Wybieram algorytm uczenia maszynowego\n",
        "from sklearn.tree import DecisionTreeClassifier\n",
        "model = DecisionTreeClassifier(random_state=1442)\n",
        "model.fit(X_train, y_train)\n",
        "y_pred = model.predict(X_test)"
      ],
      "metadata": {
        "id": "cPmpdYXV81cH"
      },
      "execution_count": 91,
      "outputs": []
    },
    {
      "cell_type": "code",
      "source": [
        "# Wybieram algorytm uczenia maszynowego\n",
        "from sklearn.naive_bayes import GaussianNB\n",
        "model = GaussianNB()\n",
        "model.fit(X_train, y_train)\n",
        "y_pred = model.predict(X_test)"
      ],
      "metadata": {
        "id": "0iqTkrPKQerb"
      },
      "execution_count": 93,
      "outputs": []
    },
    {
      "cell_type": "code",
      "source": [
        "# Wybieram algorytm uczenia maszynowego - Random Forest (RF),\n",
        "from sklearn.ensemble import RandomForestClassifier\n",
        "model = RandomForestClassifier(max_depth=5, n_estimators=10, max_features=1)\n",
        "model.fit(X_train, y_train)\n",
        "y_pred = model.predict(X_test)"
      ],
      "metadata": {
        "id": "Y6hlox-MZJr8"
      },
      "execution_count": 95,
      "outputs": []
    },
    {
      "cell_type": "code",
      "source": [
        "# Wybieram algorytm uczenia maszynowego - support Vector Machines\n",
        "from sklearn import svm\n",
        "model = svm.SVC()\n",
        "model.fit(X_train, y_train)\n",
        "y_pred = model.predict(X_test)"
      ],
      "metadata": {
        "id": "YmjbvfsmZnUV"
      },
      "execution_count": 97,
      "outputs": []
    },
    {
      "cell_type": "code",
      "source": [
        "# Wybieram algorytm uczenia maszynowego - deep neural network DNN\n",
        "from sklearn.neural_network import MLPClassifier\n",
        "MLPClassifier(solver='lbfgs', alpha=1e-5, hidden_layer_sizes=(5, 2), random_state=1)\n",
        "model.fit(X_train, y_train)\n",
        "y_pred = model.predict(X_test)"
      ],
      "metadata": {
        "id": "1VQ4CJWEaMhQ"
      },
      "execution_count": 99,
      "outputs": []
    },
    {
      "cell_type": "code",
      "source": [
        "# Sprawdzam jak model sobie poradził\n",
        "from sklearn.metrics import accuracy_score, precision_score, recall_score, f1_score, confusion_matrix\n",
        "\n",
        "# Accuracy - Miara dokładności klasyfikacji.\n",
        "accuracy = accuracy_score(y_test, y_pred)\n",
        "print(\"Accuracy:\", accuracy)\n",
        "\n",
        "# Precision - Miara dokładności pozytywnych predykcji (tp / (tp + fp)).\n",
        "precision = precision_score(y_test, y_pred)\n",
        "print(\"Precision:\", precision)\n",
        "\n",
        "# Recall - Miara pokrycia pozytywnych przypadków (tp / (tp + fn)).\n",
        "recall = recall_score(y_test, y_pred)\n",
        "print(\"Recall:\", recall)\n",
        "\n",
        "# F1 Score - Średnia harmoniczna precision i recall.\n",
        "f1 = f1_score(y_test, y_pred)\n",
        "print(\"F1 Score:\", f1)\n",
        "\n",
        "# Confusion Matrix - Macierz błędów, która zawiera informacje o tp, tn, fp i fn.\n",
        "confusion = confusion_matrix(y_test, y_pred)\n",
        "print(\"Confusion Matrix:\")\n",
        "print(confusion)\n"
      ],
      "metadata": {
        "colab": {
          "base_uri": "https://localhost:8080/"
        },
        "id": "EoUSzxD9K6wy",
        "outputId": "31302f1f-9c59-401f-a694-831a6ec1f509"
      },
      "execution_count": 100,
      "outputs": [
        {
          "output_type": "stream",
          "name": "stdout",
          "text": [
            "Accuracy: 0.8768079800498753\n",
            "Precision: 0.8503079109426812\n",
            "Recall: 0.9097820577800304\n",
            "F1 Score: 0.8790401567091087\n",
            "Confusion Matrix:\n",
            "[[3442  632]\n",
            " [ 356 3590]]\n"
          ]
        }
      ]
    },
    {
      "cell_type": "code",
      "source": [
        "#Cross-validation score (wynik walidacji krzyżowej) to metoda oceny wydajności modelu uczenia maszynowego, która pomaga w określeniu, jak dobrze model generalizuje na nie widziane wcześniej dane\n",
        "cv_score = cross_val_score(model, X,y,cv=5,scoring=\"accuracy\")\n",
        "cv_score.mean()"
      ],
      "metadata": {
        "colab": {
          "base_uri": "https://localhost:8080/"
        },
        "id": "R_GtLMb5OyuJ",
        "outputId": "facfc6f5-be41-4da1-8193-48b7b899b34a"
      },
      "execution_count": 101,
      "outputs": [
        {
          "output_type": "execute_result",
          "data": {
            "text/plain": [
              "0.8958756849108717"
            ]
          },
          "metadata": {},
          "execution_count": 101
        }
      ]
    }
  ]
}