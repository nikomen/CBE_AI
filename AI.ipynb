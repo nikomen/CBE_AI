{
  "nbformat": 4,
  "nbformat_minor": 0,
  "metadata": {
    "colab": {
      "provenance": [],
      "authorship_tag": "ABX9TyNIQwJWYaWaACGmXx1bpt1m",
      "include_colab_link": true
    },
    "kernelspec": {
      "name": "python3",
      "display_name": "Python 3"
    },
    "language_info": {
      "name": "python"
    }
  },
  "cells": [
    {
      "cell_type": "markdown",
      "metadata": {
        "id": "view-in-github",
        "colab_type": "text"
      },
      "source": [
        "<a href=\"https://colab.research.google.com/github/nikomen/CBE_AI/blob/main/AI.ipynb\" target=\"_parent\"><img src=\"https://colab.research.google.com/assets/colab-badge.svg\" alt=\"Open In Colab\"/></a>"
      ]
    },
    {
      "cell_type": "code",
      "execution_count": null,
      "metadata": {
        "colab": {
          "base_uri": "https://localhost:8080/"
        },
        "id": "b11sMRFt6KVu",
        "outputId": "784371a8-d92a-423d-de7d-9c033f7a194b"
      },
      "outputs": [
        {
          "output_type": "stream",
          "name": "stdout",
          "text": [
            "Mounted at /content/drive\n"
          ]
        }
      ],
      "source": [
        "#Podłączenie google drive z Colabem\n",
        "from google.colab import drive\n",
        "drive.mount('/content/drive')"
      ]
    },
    {
      "cell_type": "code",
      "source": [
        "import pandas as pd\n",
        "import numpy as np\n",
        "\n",
        "#Wczytanie danych\n",
        "dataset = pd.read_csv('/content/drive/My Drive/Colab Notebooks/all.csv')"
      ],
      "metadata": {
        "id": "0tHTgZLd6PP3"
      },
      "execution_count": null,
      "outputs": []
    },
    {
      "cell_type": "code",
      "source": [
        "# Miałem problem z IP oraz czasem jako danymi. Na razie je wywaliłem\n",
        "dataset = dataset.drop(['SourceIP','DestinationIP','PacketTimeMode','TimeStamp'],1)\n",
        "# Wywalam duplikaty i próbki które nie miały wszystch cech\n",
        "dataset = dataset.dropna()\n",
        "dataset = dataset.drop_duplicates()\n",
        "dataset"
      ],
      "metadata": {
        "id": "iBqZf8GN9Qpo"
      },
      "execution_count": null,
      "outputs": []
    },
    {
      "cell_type": "code",
      "source": [
        "# Sprawdzenie jak zbalansowane są dane\n",
        "dataset.groupby(dataset.DoH).size()"
      ],
      "metadata": {
        "colab": {
          "base_uri": "https://localhost:8080/"
        },
        "id": "ztlw416KD79G",
        "outputId": "32e8ebf6-3ec8-4390-8122-ebbd7494ecb5"
      },
      "execution_count": null,
      "outputs": [
        {
          "output_type": "execute_result",
          "data": {
            "text/plain": [
              "DoH\n",
              "False    353122\n",
              "True      16039\n",
              "dtype: int64"
            ]
          },
          "metadata": {},
          "execution_count": 86
        }
      ]
    },
    {
      "cell_type": "code",
      "source": [
        "# Balansowanie danych\n",
        "from sklearn.utils import resample\n",
        "Klasa_mniejsza = dataset[dataset.DoH == True]\n",
        "Klasa_wieksza = dataset[dataset.DoH == False]\n",
        "Klasa_wieksza_zmniejszona = resample(Klasa_wieksza, replace=False, n_samples=16039, random_state=42)\n",
        "dataset = pd.concat([Klasa_wieksza_zmniejszona, Klasa_mniejsza])\n",
        "dataset.groupby(dataset.DoH).size()"
      ],
      "metadata": {
        "colab": {
          "base_uri": "https://localhost:8080/"
        },
        "id": "dCpZBQvMECHm",
        "outputId": "cab1fb9b-4645-4b61-ec5d-65af4179387a"
      },
      "execution_count": null,
      "outputs": [
        {
          "output_type": "execute_result",
          "data": {
            "text/plain": [
              "DoH\n",
              "False    16039\n",
              "True     16039\n",
              "dtype: int64"
            ]
          },
          "metadata": {},
          "execution_count": 87
        }
      ]
    },
    {
      "cell_type": "code",
      "source": [
        "# Dzielę dane na cechy i etykiety\n",
        "X = dataset.iloc[:, :-1]\n",
        "# Zamiana wartości etykiet z True/False na 1/0.\n",
        "y = dataset.iloc[:, -1].astype(int)\n",
        "\n",
        "# Standaryzacja danych Standaryzacja polega na przekształceniu danych w taki sposób, że średnia wartość (średnia arytmetyczna) wszystkich danych wynosi 0, a odchylenie standardowe wynosi 1.\n",
        "from sklearn.preprocessing import StandardScaler\n",
        "X_scaled = StandardScaler()\n",
        "X = X_scaled.fit_transform(X)"
      ],
      "metadata": {
        "id": "2B53Oa1n9EU7"
      },
      "execution_count": null,
      "outputs": []
    },
    {
      "cell_type": "code",
      "source": [
        "# Podział na dane treningowe i dane testowe\n",
        "from sklearn.model_selection import train_test_split\n",
        "X_train, X_test, y_train, y_test = train_test_split(X, y, test_size=.25, random_state=42)"
      ],
      "metadata": {
        "id": "wzRfzz_bDLo2"
      },
      "execution_count": null,
      "outputs": []
    },
    {
      "cell_type": "code",
      "source": [
        "# Wybór X najlepszych cech\n",
        "from sklearn.feature_selection import SelectKBest, mutual_info_classif\n",
        "select_feature = SelectKBest(mutual_info_classif, k=17).fit(X_train,y_train)\n",
        "X_train = select_feature.transform(X_train)\n",
        "X_test = select_feature.transform(X_test)"
      ],
      "metadata": {
        "id": "SO5rAuqqX3bi"
      },
      "execution_count": null,
      "outputs": []
    },
    {
      "cell_type": "code",
      "source": [
        "# Wybieram algorytm uczenia maszynowego\n",
        "from sklearn.tree import DecisionTreeClassifier\n",
        "model = DecisionTreeClassifier(random_state=1442)\n",
        "model.fit(X_train, y_train)\n",
        "y_pred = model.predict(X_test)"
      ],
      "metadata": {
        "id": "cPmpdYXV81cH"
      },
      "execution_count": 102,
      "outputs": []
    },
    {
      "cell_type": "code",
      "source": [
        "# Wybieram algorytm uczenia maszynowego\n",
        "from sklearn.naive_bayes import GaussianNB\n",
        "model = GaussianNB()\n",
        "model.fit(X_train, y_train)\n",
        "y_pred = model.predict(X_test)"
      ],
      "metadata": {
        "id": "0iqTkrPKQerb"
      },
      "execution_count": 133,
      "outputs": []
    },
    {
      "cell_type": "code",
      "source": [
        "# Wybieram algorytm uczenia maszynowego - Random Forest (RF),\n",
        "from sklearn.ensemble import RandomForestClassifier\n",
        "model = RandomForestClassifier(max_depth=5, n_estimators=10, max_features=1)\n",
        "model.fit(X_train, y_train)\n",
        "y_pred = model.predict(X_test)"
      ],
      "metadata": {
        "id": "Y6hlox-MZJr8"
      },
      "execution_count": null,
      "outputs": []
    },
    {
      "cell_type": "code",
      "source": [
        "# Wybieram algorytm uczenia maszynowego - support Vector Machines\n",
        "from sklearn import svm\n",
        "model = svm.SVC()\n",
        "model.fit(X_train, y_train)\n",
        "y_pred = model.predict(X_test)"
      ],
      "metadata": {
        "id": "YmjbvfsmZnUV"
      },
      "execution_count": 126,
      "outputs": []
    },
    {
      "cell_type": "code",
      "source": [
        "# Wybieram algorytm uczenia maszynowego - deep neural network DNN\n",
        "from sklearn.neural_network import MLPClassifier\n",
        "model = MLPClassifier(alpha=0.00001, hidden_layer_sizes=(5, 2), random_state=1, solver='lbfgs', max_iter=100000)\n",
        "model.fit(X_train, y_train)\n",
        "y_pred = model.predict(X_test)"
      ],
      "metadata": {
        "id": "1VQ4CJWEaMhQ"
      },
      "execution_count": null,
      "outputs": []
    },
    {
      "cell_type": "code",
      "source": [
        "# Sprawdzam jak model sobie poradził\n",
        "from sklearn.metrics import accuracy_score, precision_score, recall_score, f1_score, confusion_matrix\n",
        "\n",
        "# Accuracy - Miara dokładności klasyfikacji.\n",
        "accuracy = accuracy_score(y_test, y_pred)\n",
        "print(\"Accuracy:\", accuracy)\n",
        "\n",
        "# Precision - Miara dokładności pozytywnych predykcji (tp / (tp + fp)).\n",
        "precision = precision_score(y_test, y_pred)\n",
        "print(\"Precision:\", precision)\n",
        "\n",
        "# Recall - Miara pokrycia pozytywnych przypadków (tp / (tp + fn)).\n",
        "recall = recall_score(y_test, y_pred)\n",
        "print(\"Recall:\", recall)\n",
        "\n",
        "# F1 Score - Średnia harmoniczna precision i recall.\n",
        "f1 = f1_score(y_test, y_pred)\n",
        "print(\"F1 Score:\", f1)\n",
        "\n",
        "# Confusion Matrix - Macierz błędów, która zawiera informacje o tp, tn, fp i fn.\n",
        "confusion = confusion_matrix(y_test, y_pred)\n",
        "print(\"Confusion Matrix:\")\n",
        "print(confusion)\n"
      ],
      "metadata": {
        "colab": {
          "base_uri": "https://localhost:8080/"
        },
        "id": "EoUSzxD9K6wy",
        "outputId": "1c560cf4-e4ff-4e72-b3fc-58510b18a226"
      },
      "execution_count": 159,
      "outputs": [
        {
          "output_type": "stream",
          "name": "stdout",
          "text": [
            "Accuracy: 0.9416458852867831\n",
            "Precision: 0.9243533430941923\n",
            "Recall: 0.9599594526102382\n",
            "F1 Score: 0.9418199900546992\n",
            "Confusion Matrix:\n",
            "[[3764  310]\n",
            " [ 158 3788]]\n"
          ]
        }
      ]
    },
    {
      "cell_type": "code",
      "source": [
        "#Cross-validation score (wynik walidacji krzyżowej) to metoda oceny wydajności modelu uczenia maszynowego, która pomaga w określeniu, jak dobrze model generalizuje na nie widziane wcześniej dane\n",
        "cv_score = cross_val_score(model, X,y,cv=5,scoring=\"accuracy\")\n",
        "cv_score.mean()"
      ],
      "metadata": {
        "colab": {
          "base_uri": "https://localhost:8080/",
          "height": 215
        },
        "id": "R_GtLMb5OyuJ",
        "outputId": "71e0c202-99ad-4c2b-d304-971984fa5ff3"
      },
      "execution_count": 154,
      "outputs": [
        {
          "output_type": "error",
          "ename": "TypeError",
          "evalue": "ignored",
          "traceback": [
            "\u001b[0;31m---------------------------------------------------------------------------\u001b[0m",
            "\u001b[0;31mTypeError\u001b[0m                                 Traceback (most recent call last)",
            "\u001b[0;32m<ipython-input-154-fc2f87db1e8c>\u001b[0m in \u001b[0;36m<cell line: 2>\u001b[0;34m()\u001b[0m\n\u001b[1;32m      1\u001b[0m \u001b[0;31m#Cross-validation score (wynik walidacji krzyżowej) to metoda oceny wydajności modelu uczenia maszynowego, która pomaga w określeniu, jak dobrze model generalizuje na nie widziane wcześniej dane\u001b[0m\u001b[0;34m\u001b[0m\u001b[0;34m\u001b[0m\u001b[0m\n\u001b[0;32m----> 2\u001b[0;31m \u001b[0mcv_score\u001b[0m \u001b[0;34m=\u001b[0m \u001b[0mcross_val_score\u001b[0m\u001b[0;34m(\u001b[0m\u001b[0mmodel\u001b[0m\u001b[0;34m,\u001b[0m \u001b[0mX\u001b[0m\u001b[0;34m,\u001b[0m\u001b[0my\u001b[0m\u001b[0;34m,\u001b[0m\u001b[0mcv\u001b[0m\u001b[0;34m=\u001b[0m\u001b[0;36m5\u001b[0m\u001b[0;34m,\u001b[0m\u001b[0mscoring\u001b[0m\u001b[0;34m=\u001b[0m\u001b[0;34m\"accuracy\"\u001b[0m\u001b[0;34m,\u001b[0m \u001b[0mmax_iter\u001b[0m\u001b[0;34m=\u001b[0m\u001b[0;36m100000\u001b[0m\u001b[0;34m)\u001b[0m\u001b[0;34m\u001b[0m\u001b[0;34m\u001b[0m\u001b[0m\n\u001b[0m\u001b[1;32m      3\u001b[0m \u001b[0mcv_score\u001b[0m\u001b[0;34m.\u001b[0m\u001b[0mmean\u001b[0m\u001b[0;34m(\u001b[0m\u001b[0;34m)\u001b[0m\u001b[0;34m\u001b[0m\u001b[0;34m\u001b[0m\u001b[0m\n",
            "\u001b[0;31mTypeError\u001b[0m: cross_val_score() got an unexpected keyword argument 'max_iter'"
          ]
        }
      ]
    }
  ]
}